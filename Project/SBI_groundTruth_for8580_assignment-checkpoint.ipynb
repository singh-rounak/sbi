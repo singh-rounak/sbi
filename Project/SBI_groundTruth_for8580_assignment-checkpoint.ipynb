{
 "cells": [
  {
   "cell_type": "code",
   "execution_count": 1,
   "metadata": {},
   "outputs": [],
   "source": [
    "import matplotlib.pyplot as plt\n",
    "import math\n",
    "import torch\n",
    "from sbi.inference import SNPE, prepare_for_sbi\n",
    "from sbi.utils.get_nn_models import posterior_nn\n",
    "import sbi.utils as utils"
   ]
  },
  {
   "cell_type": "code",
   "execution_count": 2,
   "metadata": {},
   "outputs": [],
   "source": [
    "from stylized_module.stylized_cell import Stylized_Cell\n",
    "from stylized_module.ecp import EcpMod, newposition\n",
    "from stylized_module.recorder import Recorder\n",
    "\n",
    "class Cell(Stylized_Cell):\n",
    "    \"\"\"Define single cell model using parent class Stylized_Cell\"\"\"\n",
    "    def __init__(self,geometry=None,dL=30,vrest=-70.0):\n",
    "        \"\"\"\n",
    "        Initialize cell model\n",
    "        geometry: pandas dataframe of cell morphology properties\n",
    "        dL: maximum segment length\n",
    "        vrest: reversal potential of leak channel for all segments\n",
    "        \"\"\"\n",
    "        super().__init__(geometry,dL,vrest)\n",
    "        self.record_soma_v() # uncomment this if want to record soma voltage\n",
    "    \n",
    "    def set_channels(self,gl_soma=15e-5,gl_dend=1e-5):\n",
    "        \"\"\"Define biophysical properties, insert channels\"\"\"\n",
    "#         self.set_all_passive(gl=0.0003)  # soma,dend both have gl\n",
    "        for sec in self.all:\n",
    "            sec.cm = 1.0\n",
    "            sec.insert('pas')\n",
    "            sec.e_pas = self._vrest\n",
    "        self.soma.g_pas = 15e-5*2\n",
    "        for sec in self.all[1:]:\n",
    "            sec.g_pas = 1e-5*2\n",
    "    \n",
    "    def record_soma_v(self):\n",
    "        self.v_rec = Recorder(self.soma(.5),'v')\n",
    "    \n",
    "    def v(self):\n",
    "        \"\"\"Return recorded soma membrane voltage in numpy array\"\"\"\n",
    "        if hasattr(self,'v_rec'):\n",
    "            return self.v_rec.as_numpy()"
   ]
  },
  {
   "cell_type": "code",
   "execution_count": 3,
   "metadata": {},
   "outputs": [],
   "source": [
    "from neuron import h\n",
    "import pandas as pd\n",
    "import numpy as np\n",
    "\n",
    "h.load_file('stdrun.hoc')\n",
    "\n",
    "class Simulation(object):\n",
    "    def __init__(self,geometry,electrodes,soma_injection,loc_param,geo_param=None,scale=1.0):\n",
    "        \"\"\"\n",
    "        Initialize simulation object\n",
    "        geometry: pandas dataframe of cell morphology properties\n",
    "        electrodes: array of electrode coordinates, n-by-3\n",
    "        soma_injection: vector of some injection waveform\n",
    "        loc_param: location parameters, ncell-by-4 array\n",
    "        geo_param: geometry parameters, ncell-by-k array, if not specified, use default properties in geometry\n",
    "        scale: scaling factors of lfp magnitude, ncell-vector, if is single value, is constant for all cells\n",
    "        \"\"\"\n",
    "        self.ncell = 0  # number of cells in this simulation\n",
    "        self.cells = []  # list of cell object\n",
    "        self.lfp = []  # list of EcpMod object\n",
    "        self.define_geometry_entries()  # list of entries to geometry dataframe\n",
    "        self.geometry = geometry.copy()\n",
    "        self.electrodes = electrodes\n",
    "        self.soma_injection = soma_injection\n",
    "        self.set_loc_param(loc_param)  # setup variable location parameters\n",
    "        self.set_geo_param(geo_param)  # setup variable geometry parameters\n",
    "        self.set_scale(scale)  # setup scaling factors of lfp magnitude\n",
    "        self.create_cells()  # create cell objects with properties set up\n",
    "        self.t_vec = h.Vector( round(h.tstop/h.dt)+1 ).record(h._ref_t)  # record time\n",
    "    \n",
    "    def set_loc_param(self,loc_param):\n",
    "        \"\"\"Setup location parameters. loc_param ncell-by-4 array\"\"\"\n",
    "        loc_param = np.array(loc_param)\n",
    "        if loc_param.ndim==1:\n",
    "            loc_param = np.expand_dims(loc_param,0)\n",
    "        self.ncell = loc_param.shape[0]\n",
    "        self.loc_param = [(np.insert(loc_param[i,:2],2,0.),loc_param[i,2:]) for i in range(self.ncell)]\n",
    "    \n",
    "    def set_geo_param(self,geo_param):\n",
    "        \"\"\"Setup geometry parameters. geo_param ncell-by-k array, k entries of properties\"\"\"\n",
    "        if geo_param is None:\n",
    "            self.geo_param = None\n",
    "        else:\n",
    "            geo_param = np.array(geo_param)\n",
    "            if geo_param.ndim==1:\n",
    "                geo_param = np.expand_dims(geo_param,0)\n",
    "            if geo_param.shape[0]!=self.ncell:\n",
    "                raise ValueError(\"geo_param number of rows does not match loc_param\")\n",
    "            self.geo_param = geo_param\n",
    "    \n",
    "    def set_scale(self,scale):\n",
    "        if not hasattr(scale,'__len__'):\n",
    "            self.scale = np.full(self.ncell,scale)\n",
    "        else:\n",
    "            scale = np.array(scale).ravel()\n",
    "            if scale.size!=self.ncell:\n",
    "                raise ValueError(\"scale size does not match loc_param rows\")\n",
    "            self.scale = scale\n",
    "    \n",
    "    def define_geometry_entries(self):\n",
    "        \"\"\"Define list of entries to geometry dataframe. Each entry is a pair of section id and property.\"\"\"\n",
    "        self.geo_entries = [\n",
    "            (0,'R'),  # change soma radius\n",
    "            (3,'L'),  # change trunk length\n",
    "            (3,'R'),  # change trunk radius\n",
    "            ([1,2],'R'),  # change dendrites radius\n",
    "            (4,'R'),  # change tuft radius\n",
    "            ([1,2,4],'L') # change dendrite length\n",
    "        ]\n",
    "    \n",
    "    def set_geometry(self,geometry,geo_param):\n",
    "        \"\"\"Set property values from geo_param through each entry to geometry. Return dataframe\"\"\"\n",
    "        geom = geometry.copy()\n",
    "        for i,x in enumerate(geo_param):\n",
    "            if x>=0:\n",
    "                geom.loc[self.geo_entries[i]] = x\n",
    "        return geom\n",
    "    \n",
    "    def create_cells(self):\n",
    "        \"\"\"Create cell objects with properties set up\"\"\"\n",
    "        self.cells.clear()  # remove cell objects from previous run\n",
    "        self.lfp.clear()\n",
    "        if self.geo_param is None:\n",
    "            for i in range(self.ncell):\n",
    "                self.cells.append( Cell(geometry=self.geometry) )\n",
    "        else:\n",
    "            for i in range(self.ncell):\n",
    "                geometry = self.set_geometry(self.geometry,self.geo_param[i,:])\n",
    "                self.cells.append( Cell(geometry=geometry) )\n",
    "        # add soma injection current and set up lfp recording\n",
    "        for i,cell in enumerate(self.cells):\n",
    "            cell.add_injection(sec_index=0,pulse=False,current=self.soma_injection,record=True)\n",
    "            # Move cell location\n",
    "            self.lfp.append( EcpMod(cell,self.electrodes,move_cell=self.loc_param[i],scale=self.scale[i]) )\n",
    "#             # Alternatively, if number of segments in the cell is much larger then electrodes, then move the electrodes instead\n",
    "#             translate, rotate = self.loc_param[i]\n",
    "#             self.lfp.append( EcpMod(cell,newposition(translate,rotate,self.electrodes,move_frame=True),scale=self.scale[i]) )\n",
    "    \n",
    "    def run(self):\n",
    "        \"\"\"Run simulation\"\"\"\n",
    "        h.run()\n",
    "    \n",
    "    def t(self):\n",
    "        \"\"\"Return simulation time vector\"\"\"\n",
    "        return self.t_vec.as_numpy()\n",
    "    \n",
    "    def get_lfp(self,index=0):\n",
    "        \"\"\"Return LFP array of the cell by index, channels-by-time\"\"\"\n",
    "        return self.lfp[index].calc_ecp()\n",
    "    "
   ]
  },
  {
   "cell_type": "markdown",
   "metadata": {},
   "source": [
    "### import ground truth trace "
   ]
  },
  {
   "cell_type": "code",
   "execution_count": 4,
   "metadata": {},
   "outputs": [
    {
     "name": "stdout",
     "output_type": "stream",
     "text": [
      "(96, 96)\n"
     ]
    },
    {
     "data": {
      "image/png": "[encoded data removed]",
      "text/plain": [
       "<Figure size 432x288 with 1 Axes>"
      ]
     },
     "metadata": {
      "needs_background": "light"
     },
     "output_type": "display_data"
    }
   ],
   "source": [
    "groundTruth = np.loadtxt('GT_for_8580.txt')\n",
    "[a,b] = groundTruth.shape\n",
    "time = np.linspace(0,3,b)\n",
    "maxIndx = np.argmax(np.absolute(groundTruth).max(axis=0))  # find maximum absolute value\n",
    "maxTrace = -groundTruth[:,maxIndx] + 30\n",
    "maxArg = np.argmax(maxTrace)\n",
    "plt.plot(time,groundTruth)\n",
    "print(groundTruth.shape)"
   ]
  },
  {
   "cell_type": "markdown",
   "metadata": {},
   "source": [
    "### make default electrode coordinates"
   ]
  },
  {
   "cell_type": "code",
   "execution_count": 5,
   "metadata": {},
   "outputs": [],
   "source": [
    "x = np.linspace(0,0,96)#np.zeros(a)#16 um apart\n",
    "y = np.linspace(-1900,1900,96)\n",
    "z = np.zeros(96)\n",
    "pos = np.vstack((x,y,z)).T\n",
    "posdf = pd.DataFrame(pos)\n",
    "pos = np.array(posdf)"
   ]
  },
  {
   "cell_type": "markdown",
   "metadata": {},
   "source": [
    "#### Begin setup the simulation"
   ]
  },
  {
   "cell_type": "code",
   "execution_count": 6,
   "metadata": {},
   "outputs": [],
   "source": [
    "from neuron import h\n",
    "import pandas as pd\n",
    "import numpy as np\n",
    "\n",
    "# Load geometry into pandas dataframe\n",
    "geo_standard = pd.read_csv('geom_standard.csv',index_col='id')\n",
    "# Load electrode coordinates (this is just for example. update it to be 96*3)\n",
    "#elec_pos = pd.read_csv('linear_electrode.csv',sep=' ')[[x+'_pos' for x in list('xyz')]].values\n",
    "elec_pos = posdf\n",
    "# Basic settings for simulation\n",
    "h.load_file('stdrun.hoc')\n",
    "h.tstop = 4.\n",
    "h.dt = 1/30\n",
    "h.v_init = -70.0  # should be close to resting potential\n",
    "\n",
    "# define example current injection waveform (later use in vivo LFP waveform in the channel with maximum amplitude)\n",
    "t = np.arange(0,h.tstop+h.dt,h.dt)\n",
    "t_inj = np.arange(5,15,h.dt)\n",
    "#soma_injection = np.zeros(t.shape)\n",
    "soma_injection = np.loadtxt('Iinj.txt')\n"
   ]
  },
  {
   "cell_type": "markdown",
   "metadata": {},
   "source": [
    "Create simulation object. Here run with only one cell and only location changed."
   ]
  },
  {
   "cell_type": "code",
   "execution_count": 7,
   "metadata": {},
   "outputs": [],
   "source": [
    "loc_param = [0,0,0,1,0]\n",
    "geo_param = [4.0, -1, 0.2, -1, -1, 300.0]  # default value [6.0, 400.0, 0.1, 0.1, 0.1, 200.0]\n",
    "geo_param = np.tile(geo_param,(3,1))  # Repeat to get 3-by-6 array.\n",
    "sim = Simulation(geo_standard,elec_pos,soma_injection,loc_param,scale=100.)"
   ]
  },
  {
   "cell_type": "markdown",
   "metadata": {},
   "source": [
    "This block of codes below can be put into the simulator function in sbi, to be run multiple times. You can run one cell at a time and run through all samples in series. Or you can run multiple cells at once, and gather the results as presimulated data for each round in sbi."
   ]
  },
  {
   "cell_type": "code",
   "execution_count": 8,
   "metadata": {},
   "outputs": [],
   "source": [
    "def model(param,t):\n",
    "    \n",
    "    from scipy import signal\n",
    "    \n",
    "\n",
    "    \n",
    "    sim.set_loc_param(param[:5])\n",
    "    scalVal = 10 ** param[5]\n",
    "    sim.set_scale(scalVal)\n",
    "    ##uncomment if you want the model to use different geo parameters. remember to change the prior  if you do\n",
    "    #gparamarray = np.array([6.0, 400.0, 0.1, 0.1, 0.1, 200.0])#[param[5],param[6], param[7], 0.1, 0.1, 200.0])\n",
    "    #sim.set_geo_param(gparamarray)\n",
    "    sim.create_cells()\n",
    "    sim.run()\n",
    "    lfp = sim.get_lfp()\n",
    "    lfp = lfp.T\n",
    "    b,a = signal.butter(2,100,'hp',fs=30000)    # order 2, 100 Hz, highpass, sampling rate = 40kHz\n",
    "    filtered_lfp = signal.lfilter(b,a,lfp,axis=0)    # filter along row of the lfp 2d-array, if each row is a channel\n",
    "    filtered_lfp = filtered_lfp[0:96]\n",
    "        ###calculate lfp from current recordings\n",
    "    simDict = {\"traces\": filtered_lfp,\n",
    "              \"time\": t}\n",
    "    return simDict"
   ]
  },
  {
   "cell_type": "code",
   "execution_count": 9,
   "metadata": {},
   "outputs": [],
   "source": [
    "old_position = pos\n",
    "def statscalc(sumStat):\n",
    "    \n",
    "    mean_ch_vals = np.mean(sumStat)\n",
    "    stdDev_ch_vals = np.std(sumStat)\n",
    "    max_ch_val = np.array(max(sumStat)).reshape(-1)\n",
    "    min_ch_val = np.array(min(sumStat)).reshape(-1)\n",
    "\n",
    "    \n",
    "    max_ch_pos = np.array(np.argmax(sumStat)).reshape(-1)#number of the channel at which max v occurs\n",
    "    min_ch_pos = np.array(np.argmin(sumStat)).reshape(-1)\n",
    "       \n",
    "\n",
    "    y = old_position[max_ch_pos,1]\n",
    "    orig_posMax = np.array([y]).reshape(-1)\n",
    "    \n",
    "    y = old_position[min_ch_pos,1]\n",
    "    orig_posMin = np.array([y]).reshape(-1)\n",
    "    \n",
    "    All = np.hstack((orig_posMax,orig_posMin, mean_ch_vals, stdDev_ch_vals,max_ch_val,min_ch_val))\n",
    "    \n",
    "    return(All)\n",
    "    "
   ]
  },
  {
   "cell_type": "code",
   "execution_count": 10,
   "metadata": {},
   "outputs": [],
   "source": [
    "from scipy import stats as spstats\n",
    "\n",
    "def Stats(results):\n",
    "    \"\"\"\n",
    "    Calculates summary statistics\n",
    "    results = model(params)\n",
    "    \"\"\"\n",
    "\n",
    "\n",
    "    X = np.array(results['traces'])\n",
    "    [a,b] = X.shape\n",
    "    T = np.array(results['time'])\n",
    "    \n",
    "    avg = np.mean(X, axis = 0)# average voltage of each channel\n",
    "    stdDev = np.std(X, axis = 0)# stDev of the voltage of each channel\n",
    "\n",
    "    maxTrough = []\n",
    "    timesT = []\n",
    "    maxPeak = []\n",
    "    timesP = [] \n",
    "   \n",
    "    for i in range(0,b):\n",
    "        maxPeak.append(max(X[:,i]))# max voltage of channel i\n",
    "        timesP.append(T[np.argmax(X[:,i])]) # time at which the max sample was taken in channel i\n",
    "        maxTrough.append(min(X[:,i]))# min voltage of channel i\n",
    "        timesT.append(T[np.argmin(X[:,i])]) # time at which the min sample was taken in channel i\n",
    "    avg = np.array(avg).reshape(-1)   \n",
    "    stdDev = np.array(stdDev).reshape(-1)          \n",
    "    tPeak_Trough = np.array(timesP) - np.array(timesT)       \n",
    "\n",
    "\n",
    "    maxStats = np.array(statscalc(maxPeak)).reshape(-1)\n",
    "    minStats = np.array(statscalc(maxTrough)).reshape(-1)\n",
    "    avgStats = np.array(statscalc(avg)).reshape(-1) \n",
    "    relTimeStats = np.array(statscalc(tPeak_Trough)).reshape(-1)\n",
    "\n",
    "  \n",
    "            \n",
    "    allStats = np.concatenate((avgStats,maxStats,relTimeStats, minStats,))\n",
    "    \n",
    "\n",
    "    return np.asarray(allStats)"
   ]
  },
  {
   "cell_type": "code",
   "execution_count": 11,
   "metadata": {},
   "outputs": [],
   "source": [
    "from __future__ import print_function\n",
    "import torch\n",
    "\n",
    "def simulation(params):\n",
    "    s = Stats(model(params,t))\n",
    "    return torch.from_numpy(s)"
   ]
  },
  {
   "cell_type": "code",
   "execution_count": 14,
   "metadata": {},
   "outputs": [
    {
     "name": "stdout",
     "output_type": "stream",
     "text": [
      "ranParams =  tensor([121.6838, 464.4503,   2.1717,  -0.7718,   2.7061,   3.8574],\n",
      "       dtype=torch.float64)\n"
     ]
    },
    {
     "data": {
      "image/png": "[encoded data removed]",
      "text/plain": [
       "<Figure size 432x288 with 1 Axes>"
      ]
     },
     "metadata": {
      "needs_background": "light"
     },
     "output_type": "display_data"
    }
   ],
   "source": [
    "Lows = torch.tensor([0,-2000, 0,-1,0,3],dtype = float)\n",
    "Highs = torch.tensor([200,2000,np.pi,1,np.pi,5],dtype = float)\n",
    "\n",
    "prior = utils.BoxUniform(low=Lows, high= Highs)\n",
    "\n",
    "#demo the model\n",
    "ranParams = prior.sample()#example sample\n",
    "plt.plot(time,model(ranParams,time)['traces'])\n",
    "print(\"ranParams = \", ranParams)"
   ]
  },
  {
   "cell_type": "markdown",
   "metadata": {},
   "source": [
    "# implement the Inference algorithm here"
   ]
  },
  {
   "cell_type": "code",
   "execution_count": null,
   "metadata": {},
   "outputs": [],
   "source": []
  },
  {
   "cell_type": "markdown",
   "metadata": {},
   "source": [
    "### sample from the posterior"
   ]
  },
  {
   "cell_type": "code",
   "execution_count": 15,
   "metadata": {},
   "outputs": [
    {
     "ename": "NameError",
     "evalue": "name 'x_o' is not defined",
     "output_type": "error",
     "traceback": [
      "\u001b[0;31m---------------------------------------------------------------------------\u001b[0m",
      "\u001b[0;31mNameError\u001b[0m                                 Traceback (most recent call last)",
      "\u001b[0;32m<ipython-input-15-0bbe2d674ad3>\u001b[0m in \u001b[0;36m<module>\u001b[0;34m\u001b[0m\n\u001b[0;32m----> 1\u001b[0;31m \u001b[0mobservation_trace\u001b[0m \u001b[0;34m=\u001b[0m \u001b[0mx_o\u001b[0m\u001b[0;31m#or whatever you named the ground truth that was given to the inference function\u001b[0m\u001b[0;34m\u001b[0m\u001b[0;34m\u001b[0m\u001b[0m\n\u001b[0m\u001b[1;32m      2\u001b[0m \u001b[0mobservation_summary_statistics\u001b[0m \u001b[0;34m=\u001b[0m \u001b[0mobservation_trace\u001b[0m\u001b[0;34m\u001b[0m\u001b[0;34m\u001b[0m\u001b[0m\n\u001b[1;32m      3\u001b[0m \u001b[0msamples\u001b[0m \u001b[0;34m=\u001b[0m \u001b[0mposterior\u001b[0m\u001b[0;34m.\u001b[0m\u001b[0msample\u001b[0m\u001b[0;34m(\u001b[0m\u001b[0;34m(\u001b[0m\u001b[0;36m1000\u001b[0m\u001b[0;34m,\u001b[0m\u001b[0;34m)\u001b[0m\u001b[0;34m,\u001b[0m \u001b[0mx\u001b[0m\u001b[0;34m=\u001b[0m\u001b[0mx_o\u001b[0m\u001b[0;34m)\u001b[0m\u001b[0;31m#use however many samples you think appropriate\u001b[0m\u001b[0;34m\u001b[0m\u001b[0;34m\u001b[0m\u001b[0m\n",
      "\u001b[0;31mNameError\u001b[0m: name 'x_o' is not defined"
     ]
    }
   ],
   "source": [
    "observation_trace = x_o#or whatever you named the ground truth that was given to the inference function\n",
    "observation_summary_statistics = observation_trace\n",
    "samples = posterior.sample((1000,), x=x_o)#use however many samples you think appropriate"
   ]
  },
  {
   "cell_type": "markdown",
   "metadata": {},
   "source": [
    "### find the parameter set predicted by the posterior"
   ]
  },
  {
   "cell_type": "code",
   "execution_count": 4,
   "metadata": {},
   "outputs": [
    {
     "ename": "NameError",
     "evalue": "name 'posterior' is not defined",
     "output_type": "error",
     "traceback": [
      "\u001b[0;31m---------------------------------------------------------------------------\u001b[0m",
      "\u001b[0;31mNameError\u001b[0m                                 Traceback (most recent call last)",
      "\u001b[0;32m<ipython-input-4-459b2da06a96>\u001b[0m in \u001b[0;36m<module>\u001b[0;34m\u001b[0m\n\u001b[0;32m----> 1\u001b[0;31m \u001b[0mlog_probability\u001b[0m \u001b[0;34m=\u001b[0m \u001b[0mposterior\u001b[0m\u001b[0;34m.\u001b[0m\u001b[0mlog_prob\u001b[0m\u001b[0;34m(\u001b[0m\u001b[0msamples\u001b[0m\u001b[0;34m,\u001b[0m \u001b[0mx\u001b[0m \u001b[0;34m=\u001b[0m \u001b[0mx_o\u001b[0m\u001b[0;34m)\u001b[0m\u001b[0;34m\u001b[0m\u001b[0;34m\u001b[0m\u001b[0m\n\u001b[0m\u001b[1;32m      2\u001b[0m \u001b[0mpredicted_post_index\u001b[0m \u001b[0;34m=\u001b[0m \u001b[0mnp\u001b[0m\u001b[0;34m.\u001b[0m\u001b[0margmax\u001b[0m\u001b[0;34m(\u001b[0m\u001b[0mlog_probability\u001b[0m\u001b[0;34m)\u001b[0m\u001b[0;31m#find the most probable parameter set from the posterior\u001b[0m\u001b[0;34m\u001b[0m\u001b[0;34m\u001b[0m\u001b[0m\n\u001b[1;32m      3\u001b[0m \u001b[0mpredicted_post\u001b[0m \u001b[0;34m=\u001b[0m \u001b[0msamples\u001b[0m\u001b[0;34m[\u001b[0m\u001b[0mpredicted_post_index\u001b[0m\u001b[0;34m]\u001b[0m\u001b[0;34m\u001b[0m\u001b[0;34m\u001b[0m\u001b[0m\n\u001b[1;32m      4\u001b[0m \u001b[0mplt\u001b[0m\u001b[0;34m.\u001b[0m\u001b[0mhist\u001b[0m\u001b[0;34m(\u001b[0m\u001b[0mlog_probability\u001b[0m\u001b[0;34m)\u001b[0m\u001b[0;34m\u001b[0m\u001b[0;34m\u001b[0m\u001b[0m\n\u001b[1;32m      5\u001b[0m \u001b[0mprint\u001b[0m\u001b[0;34m(\u001b[0m\u001b[0;34m\"predicted post is: \"\u001b[0m\u001b[0;34m,\u001b[0m\u001b[0mpredicted_post\u001b[0m\u001b[0;34m)\u001b[0m\u001b[0;34m\u001b[0m\u001b[0;34m\u001b[0m\u001b[0m\n",
      "\u001b[0;31mNameError\u001b[0m: name 'posterior' is not defined"
     ]
    }
   ],
   "source": [
    "log_probability = posterior.log_prob(samples, x = x_o)\n",
    "predicted_post_index = np.argmax(log_probability)#find the most probable parameter set from the posterior\n",
    "predicted_post = samples[predicted_post_index]\n",
    "plt.hist(log_probability)\n",
    "print(\"predicted post is: \",predicted_post)"
   ]
  },
  {
   "cell_type": "markdown",
   "metadata": {},
   "source": [
    "### visualize the posterior for each parameter using a KDE plot"
   ]
  },
  {
   "cell_type": "code",
   "execution_count": 6,
   "metadata": {},
   "outputs": [
    {
     "ename": "NameError",
     "evalue": "name 'samples' is not defined",
     "output_type": "error",
     "traceback": [
      "\u001b[0;31m---------------------------------------------------------------------------\u001b[0m",
      "\u001b[0;31mNameError\u001b[0m                                 Traceback (most recent call last)",
      "\u001b[0;32m<ipython-input-6-5511cd4ec62c>\u001b[0m in \u001b[0;36m<module>\u001b[0;34m\u001b[0m\n\u001b[1;32m      1\u001b[0m \u001b[0mlabels_params\u001b[0m \u001b[0;34m=\u001b[0m \u001b[0;34m[\u001b[0m \u001b[0;34mr'x'\u001b[0m\u001b[0;34m,\u001b[0m\u001b[0;34mr'y'\u001b[0m\u001b[0;34m,\u001b[0m\u001b[0;34mr'theta'\u001b[0m\u001b[0;34m,\u001b[0m\u001b[0;34mr'h'\u001b[0m\u001b[0;34m,\u001b[0m \u001b[0;34mr'phi'\u001b[0m\u001b[0;34m,\u001b[0m\u001b[0;34mr'scale'\u001b[0m\u001b[0;34m]\u001b[0m\u001b[0;34m\u001b[0m\u001b[0;34m\u001b[0m\u001b[0m\n\u001b[0;32m----> 2\u001b[0;31m fig, axes = utils.pairplot(samples,\n\u001b[0m\u001b[1;32m      3\u001b[0m                            \u001b[0mlimits\u001b[0m\u001b[0;34m=\u001b[0m\u001b[0;34m[\u001b[0m\u001b[0;34m[\u001b[0m\u001b[0;36m0\u001b[0m\u001b[0;34m,\u001b[0m\u001b[0;36m200\u001b[0m\u001b[0;34m]\u001b[0m\u001b[0;34m,\u001b[0m\u001b[0;34m[\u001b[0m\u001b[0;34m-\u001b[0m\u001b[0;36m2000\u001b[0m\u001b[0;34m,\u001b[0m\u001b[0;36m2000\u001b[0m\u001b[0;34m]\u001b[0m\u001b[0;34m,\u001b[0m \u001b[0;34m[\u001b[0m\u001b[0;36m0\u001b[0m\u001b[0;34m,\u001b[0m\u001b[0mnp\u001b[0m\u001b[0;34m.\u001b[0m\u001b[0mpi\u001b[0m\u001b[0;34m]\u001b[0m\u001b[0;34m,\u001b[0m\u001b[0;34m[\u001b[0m\u001b[0;34m-\u001b[0m\u001b[0;36m1\u001b[0m\u001b[0;34m,\u001b[0m\u001b[0;36m1\u001b[0m\u001b[0;34m]\u001b[0m\u001b[0;34m,\u001b[0m\u001b[0;34m[\u001b[0m\u001b[0;36m0\u001b[0m\u001b[0;34m,\u001b[0m\u001b[0mnp\u001b[0m\u001b[0;34m.\u001b[0m\u001b[0mpi\u001b[0m\u001b[0;34m]\u001b[0m\u001b[0;34m,\u001b[0m\u001b[0;34m[\u001b[0m\u001b[0;36m3\u001b[0m\u001b[0;34m,\u001b[0m\u001b[0;36m5\u001b[0m\u001b[0;34m]\u001b[0m\u001b[0;34m]\u001b[0m\u001b[0;34m,\u001b[0m\u001b[0;34m\u001b[0m\u001b[0;34m\u001b[0m\u001b[0m\n\u001b[1;32m      4\u001b[0m                            \u001b[0mticks\u001b[0m\u001b[0;34m=\u001b[0m\u001b[0;34m[\u001b[0m\u001b[0;34m[\u001b[0m\u001b[0;36m0\u001b[0m\u001b[0;34m,\u001b[0m\u001b[0;36m200\u001b[0m\u001b[0;34m]\u001b[0m\u001b[0;34m,\u001b[0m\u001b[0;34m[\u001b[0m\u001b[0;34m-\u001b[0m\u001b[0;36m2000\u001b[0m\u001b[0;34m,\u001b[0m\u001b[0;36m2000\u001b[0m\u001b[0;34m]\u001b[0m\u001b[0;34m,\u001b[0m \u001b[0;34m[\u001b[0m\u001b[0;36m0\u001b[0m\u001b[0;34m,\u001b[0m\u001b[0mnp\u001b[0m\u001b[0;34m.\u001b[0m\u001b[0mpi\u001b[0m\u001b[0;34m]\u001b[0m\u001b[0;34m,\u001b[0m\u001b[0;34m[\u001b[0m\u001b[0;34m-\u001b[0m\u001b[0;36m1\u001b[0m\u001b[0;34m,\u001b[0m\u001b[0;36m1\u001b[0m\u001b[0;34m]\u001b[0m\u001b[0;34m,\u001b[0m\u001b[0;34m[\u001b[0m\u001b[0;36m0\u001b[0m\u001b[0;34m,\u001b[0m\u001b[0mnp\u001b[0m\u001b[0;34m.\u001b[0m\u001b[0mpi\u001b[0m\u001b[0;34m]\u001b[0m\u001b[0;34m,\u001b[0m\u001b[0;34m[\u001b[0m\u001b[0;36m3\u001b[0m\u001b[0;34m,\u001b[0m\u001b[0;36m5\u001b[0m\u001b[0;34m]\u001b[0m\u001b[0;34m]\u001b[0m\u001b[0;34m,\u001b[0m\u001b[0;34m\u001b[0m\u001b[0;34m\u001b[0m\u001b[0m\n\u001b[1;32m      5\u001b[0m                            \u001b[0mfig_size\u001b[0m\u001b[0;34m=\u001b[0m\u001b[0;34m(\u001b[0m\u001b[0;36m10\u001b[0m\u001b[0;34m,\u001b[0m\u001b[0;36m10\u001b[0m\u001b[0;34m)\u001b[0m\u001b[0;34m,\u001b[0m\u001b[0;34m\u001b[0m\u001b[0;34m\u001b[0m\u001b[0m\n",
      "\u001b[0;31mNameError\u001b[0m: name 'samples' is not defined"
     ]
    }
   ],
   "source": [
    "labels_params = [ r'x',r'y',r'theta',r'h', r'phi',r'scale']\n",
    "fig, axes = utils.pairplot(samples,\n",
    "                           limits=[[0,200],[-2000,2000], [0,np.pi],[-1,1],[0,np.pi],[3,5]],\n",
    "                           ticks=[[0,200],[-2000,2000], [0,np.pi],[-1,1],[0,np.pi],[3,5]],\n",
    "                           fig_size=(10,10),\n",
    "                           points_offdiag={'markersize': 6},\n",
    "                           labels = labels_params,\n",
    "                           points_colors='r');"
   ]
  },
  {
   "cell_type": "markdown",
   "metadata": {},
   "source": [
    "### plot the LFP resulting from the paramter set from the posterior"
   ]
  },
  {
   "cell_type": "code",
   "execution_count": 7,
   "metadata": {},
   "outputs": [
    {
     "ename": "NameError",
     "evalue": "name 'plt' is not defined",
     "output_type": "error",
     "traceback": [
      "\u001b[0;31m---------------------------------------------------------------------------\u001b[0m",
      "\u001b[0;31mNameError\u001b[0m                                 Traceback (most recent call last)",
      "\u001b[0;32m<ipython-input-7-a545b2896382>\u001b[0m in \u001b[0;36m<module>\u001b[0;34m\u001b[0m\n\u001b[0;32m----> 1\u001b[0;31m \u001b[0mplt\u001b[0m\u001b[0;34m.\u001b[0m\u001b[0mplot\u001b[0m\u001b[0;34m(\u001b[0m\u001b[0mmodel\u001b[0m\u001b[0;34m(\u001b[0m\u001b[0mpredicted_post\u001b[0m\u001b[0;34m,\u001b[0m\u001b[0mtime\u001b[0m\u001b[0;34m)\u001b[0m\u001b[0;34m[\u001b[0m\u001b[0;34m'time'\u001b[0m\u001b[0;34m]\u001b[0m\u001b[0;34m,\u001b[0m\u001b[0mmodel\u001b[0m\u001b[0;34m(\u001b[0m\u001b[0mpredicted_post\u001b[0m\u001b[0;34m,\u001b[0m\u001b[0mtime\u001b[0m\u001b[0;34m)\u001b[0m\u001b[0;34m[\u001b[0m\u001b[0;34m'traces'\u001b[0m\u001b[0;34m]\u001b[0m\u001b[0;34m)\u001b[0m\u001b[0;34m\u001b[0m\u001b[0;34m\u001b[0m\u001b[0m\n\u001b[0m\u001b[1;32m      2\u001b[0m \u001b[0;34m\u001b[0m\u001b[0m\n\u001b[1;32m      3\u001b[0m \u001b[0mplt\u001b[0m\u001b[0;34m.\u001b[0m\u001b[0mxlabel\u001b[0m\u001b[0;34m(\u001b[0m\u001b[0;34m'ms'\u001b[0m\u001b[0;34m,\u001b[0m \u001b[0mfontsize\u001b[0m\u001b[0;34m=\u001b[0m\u001b[0;36m40\u001b[0m\u001b[0;34m)\u001b[0m\u001b[0;34m\u001b[0m\u001b[0;34m\u001b[0m\u001b[0m\n\u001b[1;32m      4\u001b[0m \u001b[0mplt\u001b[0m\u001b[0;34m.\u001b[0m\u001b[0mylabel\u001b[0m\u001b[0;34m(\u001b[0m\u001b[0;34m'LFP (\\u03bcV)'\u001b[0m\u001b[0;34m,\u001b[0m \u001b[0mfontsize\u001b[0m \u001b[0;34m=\u001b[0m \u001b[0;36m40\u001b[0m\u001b[0;34m,\u001b[0m\u001b[0mlabelpad\u001b[0m\u001b[0;34m=\u001b[0m\u001b[0;34m-\u001b[0m\u001b[0;36m30\u001b[0m\u001b[0;34m)\u001b[0m\u001b[0;34m\u001b[0m\u001b[0;34m\u001b[0m\u001b[0m\n\u001b[1;32m      5\u001b[0m \u001b[0;34m\u001b[0m\u001b[0m\n",
      "\u001b[0;31mNameError\u001b[0m: name 'plt' is not defined"
     ]
    }
   ],
   "source": [
    "plt.plot(model(predicted_post,time)['time'],model(predicted_post,time)['traces'])\n",
    "\n",
    "plt.xlabel('ms', fontsize=40)\n",
    "plt.ylabel('LFP (\\u03bcV)', fontsize = 40,labelpad=-30)\n",
    "\n",
    "plt.xticks([0, 1.5,3],fontsize = 40)\n",
    "plt.yticks([-50,0,50],fontsize = 40)\n",
    "\n",
    "plt.tick_params(length = 15)\n",
    "\n",
    "print(\"parameters chosen by inference = \",predicted_post)"
   ]
  },
  {
   "cell_type": "markdown",
   "metadata": {},
   "source": [
    "### ground truth LFP"
   ]
  },
  {
   "cell_type": "code",
   "execution_count": 8,
   "metadata": {},
   "outputs": [
    {
     "ename": "NameError",
     "evalue": "name 'plt' is not defined",
     "output_type": "error",
     "traceback": [
      "\u001b[0;31m---------------------------------------------------------------------------\u001b[0m",
      "\u001b[0;31mNameError\u001b[0m                                 Traceback (most recent call last)",
      "\u001b[0;32m<ipython-input-8-e34f076f7d47>\u001b[0m in \u001b[0;36m<module>\u001b[0;34m\u001b[0m\n\u001b[0;32m----> 1\u001b[0;31m \u001b[0mplt\u001b[0m\u001b[0;34m.\u001b[0m\u001b[0mplot\u001b[0m\u001b[0;34m(\u001b[0m\u001b[0mresults\u001b[0m\u001b[0;34m[\u001b[0m\u001b[0;34m'time'\u001b[0m\u001b[0;34m]\u001b[0m\u001b[0;34m,\u001b[0m\u001b[0mresults\u001b[0m\u001b[0;34m[\u001b[0m\u001b[0;34m'traces'\u001b[0m\u001b[0;34m]\u001b[0m\u001b[0;34m)\u001b[0m\u001b[0;34m\u001b[0m\u001b[0;34m\u001b[0m\u001b[0m\n\u001b[0m\u001b[1;32m      2\u001b[0m \u001b[0;34m\u001b[0m\u001b[0m\n\u001b[1;32m      3\u001b[0m \u001b[0mplt\u001b[0m\u001b[0;34m.\u001b[0m\u001b[0mxlabel\u001b[0m\u001b[0;34m(\u001b[0m\u001b[0;34m'ms'\u001b[0m\u001b[0;34m,\u001b[0m \u001b[0mfontsize\u001b[0m\u001b[0;34m=\u001b[0m\u001b[0;36m40\u001b[0m\u001b[0;34m)\u001b[0m\u001b[0;34m\u001b[0m\u001b[0;34m\u001b[0m\u001b[0m\n\u001b[1;32m      4\u001b[0m \u001b[0mplt\u001b[0m\u001b[0;34m.\u001b[0m\u001b[0mylabel\u001b[0m\u001b[0;34m(\u001b[0m\u001b[0;34m'LFP (\\u03bcV)'\u001b[0m\u001b[0;34m,\u001b[0m \u001b[0mfontsize\u001b[0m \u001b[0;34m=\u001b[0m \u001b[0;36m40\u001b[0m\u001b[0;34m,\u001b[0m\u001b[0mlabelpad\u001b[0m\u001b[0;34m=\u001b[0m\u001b[0;34m-\u001b[0m\u001b[0;36m10\u001b[0m\u001b[0;34m)\u001b[0m\u001b[0;34m\u001b[0m\u001b[0;34m\u001b[0m\u001b[0m\n\u001b[1;32m      5\u001b[0m \u001b[0;34m\u001b[0m\u001b[0m\n",
      "\u001b[0;31mNameError\u001b[0m: name 'plt' is not defined"
     ]
    }
   ],
   "source": [
    "plt.plot(results['time'],results['traces'])\n",
    "\n",
    "plt.xlabel('ms', fontsize=40)\n",
    "plt.ylabel('LFP (\\u03bcV)', fontsize = 40,labelpad=-10)\n",
    "\n",
    "plt.xticks([0, 1.5,3],fontsize = 40)\n",
    "plt.yticks([-100,-50,0,50],fontsize = 40)\n",
    "\n",
    "plt.tick_params(length = 15)\n",
    "\n",
    "print('ground truth')"
   ]
  },
  {
   "cell_type": "markdown",
   "metadata": {},
   "source": [
    "### measure the similarity between the observation trace and predicted trace"
   ]
  },
  {
   "cell_type": "code",
   "execution_count": 9,
   "metadata": {},
   "outputs": [],
   "source": [
    "# function for calculating correlation coefficient, a value between -1 and 1.\n",
    "def corrcoef(x,y):\n",
    "    return (np.mean(x*y)-np.mean(x)*np.mean(y))/(np.std(x)*np.std(y))\n",
    "\n",
    "# Calculate correlation coefficient between input x and y inside sliding time window\n",
    "# (time should be the first axis, i.e. a column is a channel)\n",
    "# Find the maximum correlation coefficient and the corresponding window location.\n",
    "# Return first the maximum value, then return the index of the start point of corresponding window.\n",
    "# If window_size is not specified, use the length of x as window size. Return the index of window in y.\n",
    "# If window_size is specified, slide the window separately in x and y. Return the indices of windows in x and y respectively.\n",
    "def max_corrcoef(x,y,window_size=None):\n",
    "    if window_size is None:\n",
    "        win = x.shape[0]\n",
    "    else:\n",
    "        win = window_size\n",
    "    nx = x.shape[0]-win+1\n",
    "    ny = y.shape[0]-win+1\n",
    "    corr = np.empty((nx,ny))\n",
    "    for i in range(nx):\n",
    "        for j in range(ny):\n",
    "            corr[i,j] = corrcoef(x[i:i+win,:].ravel(),y[j:j+win,:].ravel())\n",
    "    maxind = np.argmax(corr)\n",
    "    maxind = np.unravel_index(maxind,(nx,ny))\n",
    "    max_corr = corr[maxind]\n",
    "    if window_size is None:\n",
    "        output = (max_corr,maxind[1])\n",
    "    else:\n",
    "        output = (max_corr,maxind[0],maxind[1])\n",
    "    return output"
   ]
  },
  {
   "cell_type": "code",
   "execution_count": 10,
   "metadata": {},
   "outputs": [
    {
     "ename": "NameError",
     "evalue": "name 'results' is not defined",
     "output_type": "error",
     "traceback": [
      "\u001b[0;31m---------------------------------------------------------------------------\u001b[0m",
      "\u001b[0;31mNameError\u001b[0m                                 Traceback (most recent call last)",
      "\u001b[0;32m<ipython-input-10-414b289102ab>\u001b[0m in \u001b[0;36m<module>\u001b[0;34m\u001b[0m\n\u001b[0;32m----> 1\u001b[0;31m \u001b[0mmax_corr\u001b[0m\u001b[0;34m,\u001b[0m\u001b[0mmax_ind\u001b[0m \u001b[0;34m=\u001b[0m \u001b[0mmax_corrcoef\u001b[0m\u001b[0;34m(\u001b[0m\u001b[0mresults\u001b[0m\u001b[0;34m[\u001b[0m\u001b[0;34m'traces'\u001b[0m\u001b[0;34m]\u001b[0m\u001b[0;34m,\u001b[0m\u001b[0mmodel\u001b[0m\u001b[0;34m(\u001b[0m\u001b[0mpostparams\u001b[0m\u001b[0;34m,\u001b[0m\u001b[0mtime\u001b[0m\u001b[0;34m)\u001b[0m\u001b[0;34m[\u001b[0m\u001b[0;34m'traces'\u001b[0m\u001b[0;34m]\u001b[0m\u001b[0;34m)\u001b[0m  \u001b[0;31m# IVTraces has length 100, lfp has length 150, window size is 100\u001b[0m\u001b[0;34m\u001b[0m\u001b[0;34m\u001b[0m\u001b[0m\n\u001b[0m\u001b[1;32m      2\u001b[0m \u001b[0mprint\u001b[0m\u001b[0;34m(\u001b[0m\u001b[0mmax_corr\u001b[0m\u001b[0;34m)\u001b[0m  \u001b[0;31m# return correlation coefficient and the index of the start point of the window in lfp\u001b[0m\u001b[0;34m\u001b[0m\u001b[0;34m\u001b[0m\u001b[0m\n",
      "\u001b[0;31mNameError\u001b[0m: name 'results' is not defined"
     ]
    }
   ],
   "source": [
    "\n",
    "max_corr,max_ind = max_corrcoef(results['traces'],model(postparams,time)['traces'])  # IVTraces has length 100, lfp has length 150, window size is 100\n",
    "print(max_corr)  # return correlation coefficient and the index of the start point of the window in lfp"
   ]
  },
  {
   "cell_type": "markdown",
   "metadata": {},
   "source": [
    "### heatmaps for predicted and ground truth\n"
   ]
  },
  {
   "cell_type": "code",
   "execution_count": 11,
   "metadata": {},
   "outputs": [
    {
     "ename": "NameError",
     "evalue": "name 'model' is not defined",
     "output_type": "error",
     "traceback": [
      "\u001b[0;31m---------------------------------------------------------------------------\u001b[0m",
      "\u001b[0;31mNameError\u001b[0m                                 Traceback (most recent call last)",
      "\u001b[0;32m<ipython-input-11-c17809da94ad>\u001b[0m in \u001b[0;36m<module>\u001b[0;34m\u001b[0m\n\u001b[1;32m      1\u001b[0m \u001b[0mwindow\u001b[0m\u001b[0;34m=\u001b[0m\u001b[0;34m[\u001b[0m\u001b[0;36m4.8\u001b[0m\u001b[0;34m,\u001b[0m\u001b[0;36m5.2\u001b[0m\u001b[0;34m]\u001b[0m\u001b[0;34m\u001b[0m\u001b[0;34m\u001b[0m\u001b[0m\n\u001b[1;32m      2\u001b[0m \u001b[0mwindow\u001b[0m\u001b[0;34m=\u001b[0m\u001b[0;34m[\u001b[0m\u001b[0;36m0\u001b[0m\u001b[0;34m,\u001b[0m\u001b[0;36m20\u001b[0m\u001b[0;34m]\u001b[0m\u001b[0;34m\u001b[0m\u001b[0;34m\u001b[0m\u001b[0m\n\u001b[0;32m----> 3\u001b[0;31m \u001b[0mlfp\u001b[0m \u001b[0;34m=\u001b[0m  \u001b[0mmodel\u001b[0m\u001b[0;34m(\u001b[0m\u001b[0mpredicted_post\u001b[0m\u001b[0;34m,\u001b[0m\u001b[0mtime\u001b[0m\u001b[0;34m)\u001b[0m\u001b[0;34m[\u001b[0m\u001b[0;34m'traces'\u001b[0m\u001b[0;34m]\u001b[0m\u001b[0;34m\u001b[0m\u001b[0;34m\u001b[0m\u001b[0m\n\u001b[0m\u001b[1;32m      4\u001b[0m \u001b[0mT\u001b[0m\u001b[0;34m=\u001b[0m \u001b[0mtime\u001b[0m\u001b[0;34m\u001b[0m\u001b[0;34m\u001b[0m\u001b[0m\n\u001b[1;32m      5\u001b[0m \u001b[0midx\u001b[0m \u001b[0;34m=\u001b[0m \u001b[0;34m(\u001b[0m\u001b[0mT\u001b[0m\u001b[0;34m>=\u001b[0m\u001b[0mwindow\u001b[0m\u001b[0;34m[\u001b[0m\u001b[0;36m0\u001b[0m\u001b[0;34m]\u001b[0m\u001b[0;34m)\u001b[0m \u001b[0;34m&\u001b[0m \u001b[0;34m(\u001b[0m\u001b[0mT\u001b[0m\u001b[0;34m<=\u001b[0m\u001b[0mwindow\u001b[0m\u001b[0;34m[\u001b[0m\u001b[0;36m1\u001b[0m\u001b[0;34m]\u001b[0m\u001b[0;34m)\u001b[0m\u001b[0;34m\u001b[0m\u001b[0;34m\u001b[0m\u001b[0m\n",
      "\u001b[0;31mNameError\u001b[0m: name 'model' is not defined"
     ]
    }
   ],
   "source": [
    "window=[4.8,5.2]\n",
    "window=[0,20]\n",
    "lfp =  model(predicted_post,time)['traces']\n",
    "T= time\n",
    "idx = (T>=window[0]) & (T<=window[1])\n",
    "lfp_m = [np.min(lfp),np.max(lfp)]\n",
    "lfp_m = [-10,10]\n",
    "elec_d = pos[:,1] # electrode location (y-coordinate)\n",
    "TT = T[idx]\n",
    "lfp = lfp[idx]\n",
    "lfp = lfp.transpose()\n",
    "fig, ax = plt.subplots()\n",
    "pcm = plt.pcolormesh(TT,elec_d/1000,lfp,cmap='viridis',vmin=lfp_m[0],vmax=lfp_m[1])\n",
    "cbaxes = fig.add_axes([.91,0.118,.03,0.76])\n",
    "cbar = fig.colorbar(pcm,ax=ax,ticks=[-10,0,10],cax = cbaxes)\n",
    "\n",
    "\n",
    "FS = 40\n",
    "NS = 30\n",
    "\n",
    "cbar.set_label('LFP (\\u03bcV)',fontsize=FS,labelpad=-12)\n",
    "cbar.set_ticklabels(['-10','0','10'])\n",
    "cbar.ax.tick_params(labelsize=NS)\n",
    "#cbar.tick_params(['-10','0','10'],labelsize=15)\n",
    "\n",
    "ax.set_xlabel('time (ms)',fontsize=FS)\n",
    "ax.set_ylabel('dist_y (mm)',fontsize=FS)\n",
    "\n",
    "\n",
    "\n",
    "ax.set_xticks([0,1.5,3])\n",
    "ax.set_xticklabels(['10.0','11.5','13'],fontsize=NS)\n",
    "\n",
    "ax.set_yticks([-1.5,0,1.5])\n",
    "ax.set_yticklabels(['-1.5','0','1.5'],fontsize=NS)\n"
   ]
  },
  {
   "cell_type": "code",
   "execution_count": 12,
   "metadata": {},
   "outputs": [
    {
     "ename": "NameError",
     "evalue": "name 'results' is not defined",
     "output_type": "error",
     "traceback": [
      "\u001b[0;31m---------------------------------------------------------------------------\u001b[0m",
      "\u001b[0;31mNameError\u001b[0m                                 Traceback (most recent call last)",
      "\u001b[0;32m<ipython-input-12-48fc9512fdd6>\u001b[0m in \u001b[0;36m<module>\u001b[0;34m\u001b[0m\n\u001b[1;32m      1\u001b[0m \u001b[0mwindow\u001b[0m\u001b[0;34m=\u001b[0m\u001b[0;34m[\u001b[0m\u001b[0;36m4.8\u001b[0m\u001b[0;34m,\u001b[0m\u001b[0;36m5.2\u001b[0m\u001b[0;34m]\u001b[0m\u001b[0;34m\u001b[0m\u001b[0;34m\u001b[0m\u001b[0m\n\u001b[1;32m      2\u001b[0m \u001b[0mwindow\u001b[0m\u001b[0;34m=\u001b[0m\u001b[0;34m[\u001b[0m\u001b[0;36m0\u001b[0m\u001b[0;34m,\u001b[0m\u001b[0;36m20\u001b[0m\u001b[0;34m]\u001b[0m\u001b[0;34m\u001b[0m\u001b[0;34m\u001b[0m\u001b[0m\n\u001b[0;32m----> 3\u001b[0;31m \u001b[0mlfp\u001b[0m \u001b[0;34m=\u001b[0m  \u001b[0mresults\u001b[0m\u001b[0;34m[\u001b[0m\u001b[0;34m'traces'\u001b[0m\u001b[0;34m]\u001b[0m\u001b[0;34m\u001b[0m\u001b[0;34m\u001b[0m\u001b[0m\n\u001b[0m\u001b[1;32m      4\u001b[0m \u001b[0mT\u001b[0m\u001b[0;34m=\u001b[0m \u001b[0mtime\u001b[0m\u001b[0;34m\u001b[0m\u001b[0;34m\u001b[0m\u001b[0m\n\u001b[1;32m      5\u001b[0m \u001b[0midx\u001b[0m \u001b[0;34m=\u001b[0m \u001b[0;34m(\u001b[0m\u001b[0mT\u001b[0m\u001b[0;34m>=\u001b[0m\u001b[0mwindow\u001b[0m\u001b[0;34m[\u001b[0m\u001b[0;36m0\u001b[0m\u001b[0;34m]\u001b[0m\u001b[0;34m)\u001b[0m \u001b[0;34m&\u001b[0m \u001b[0;34m(\u001b[0m\u001b[0mT\u001b[0m\u001b[0;34m<=\u001b[0m\u001b[0mwindow\u001b[0m\u001b[0;34m[\u001b[0m\u001b[0;36m1\u001b[0m\u001b[0;34m]\u001b[0m\u001b[0;34m)\u001b[0m\u001b[0;34m\u001b[0m\u001b[0;34m\u001b[0m\u001b[0m\n",
      "\u001b[0;31mNameError\u001b[0m: name 'results' is not defined"
     ]
    }
   ],
   "source": [
    "window=[4.8,5.2]\n",
    "window=[0,20]\n",
    "lfp =  results['traces']\n",
    "T= time\n",
    "idx = (T>=window[0]) & (T<=window[1])\n",
    "lfp_m = [np.min(lfp),np.max(lfp)]\n",
    "lfp_m = [-10,10]\n",
    "elec_d = pos[:,1] # electrode location (y-coordinate)\n",
    "TT = T[idx]\n",
    "lfp = lfp[idx]\n",
    "lfp = lfp.transpose()\n",
    "fig, ax = plt.subplots()\n",
    "pcm = plt.pcolormesh(TT,elec_d/1000,lfp,cmap='viridis',vmin=lfp_m[0],vmax=lfp_m[1])\n",
    "cbaxes = fig.add_axes([.91,0.118,.03,0.76])\n",
    "cbar = fig.colorbar(pcm,ax=ax,ticks=[-10,0,10],cax = cbaxes)\n",
    "\n",
    "\n",
    "FS = 40\n",
    "NS = 30\n",
    "\n",
    "cbar.set_label('LFP (\\u03bcV)',fontsize=FS,labelpad=-12)\n",
    "cbar.set_ticklabels(['-10','0','10'])\n",
    "cbar.ax.tick_params(labelsize=NS)\n",
    "#cbar.tick_params(['-10','0','10'],labelsize=15)\n",
    "\n",
    "ax.set_xlabel('time (ms)',fontsize=FS)\n",
    "ax.set_ylabel('dist_y (mm)',fontsize=FS)\n",
    "\n",
    "\n",
    "\n",
    "ax.set_xticks([0,1.5,3])\n",
    "ax.set_xticklabels(['10.0','11.5','13'],fontsize=NS)\n",
    "\n",
    "ax.set_yticks([-1.5,0,1.5])\n",
    "ax.set_yticklabels(['-1.5','0','1.5'],fontsize=NS)\n"
   ]
  },
  {
   "cell_type": "code",
   "execution_count": null,
   "metadata": {},
   "outputs": [],
   "source": []
  }
 ],
 "metadata": {
  "kernelspec": {
   "display_name": "Python 3",
   "language": "python",
   "name": "python3"
  },
  "language_info": {
   "codemirror_mode": {
    "name": "ipython",
    "version": 3
   },
   "file_extension": ".py",
   "mimetype": "text/x-python",
   "name": "python",
   "nbconvert_exporter": "python",
   "pygments_lexer": "ipython3",
   "version": "3.6.10"
  }
 },
 "nbformat": 4,
 "nbformat_minor": 2
}
